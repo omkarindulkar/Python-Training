{
 "cells": [
  {
   "cell_type": "code",
   "execution_count": 1,
   "metadata": {},
   "outputs": [],
   "source": [
    "#functions inside function\n",
    "def hello(name='Omkar'):\n",
    "    print('hello() function has been exexcuted!')\n",
    "    \n",
    "    def greet():\n",
    "        return '\\t this is the greet func() inside hello() func'\n",
    "    \n",
    "    def welcome():\n",
    "        return '\\t this is the welcome func() inside hello() func'\n",
    "    \n",
    "    print(greet())\n",
    "    print(welcome())"
   ]
  },
  {
   "cell_type": "code",
   "execution_count": 2,
   "metadata": {},
   "outputs": [
    {
     "name": "stdout",
     "output_type": "stream",
     "text": [
      "hello() function has been exexcuted!\n",
      "\t this is the greet func() inside hello() func\n",
      "\t this is the welcome func() inside hello() func\n"
     ]
    }
   ],
   "source": [
    "hello()"
   ]
  },
  {
   "cell_type": "code",
   "execution_count": 3,
   "metadata": {},
   "outputs": [],
   "source": [
    "def hello(name='Omkar'):\n",
    "    print('hello() function has been exexcuted!')\n",
    "    \n",
    "    def greet():\n",
    "        return '\\t this is the greet func() inside hello() func'\n",
    "    \n",
    "    def welcome():\n",
    "        return '\\t this is the welcome func() inside hello() func'\n",
    "    print(\"I am going to return a function!\")\n",
    "    \n",
    "    if name == 'Omkar':\n",
    "        return greet\n",
    "    else:\n",
    "        return welcome"
   ]
  },
  {
   "cell_type": "code",
   "execution_count": 4,
   "metadata": {},
   "outputs": [
    {
     "name": "stdout",
     "output_type": "stream",
     "text": [
      "hello() function has been exexcuted!\n",
      "I am going to return a function!\n"
     ]
    }
   ],
   "source": [
    "my_func_hello = hello('Omkar')"
   ]
  },
  {
   "cell_type": "code",
   "execution_count": 5,
   "metadata": {},
   "outputs": [
    {
     "name": "stdout",
     "output_type": "stream",
     "text": [
      "\t this is the greet func() inside hello() func\n"
     ]
    }
   ],
   "source": [
    "print(my_func_hello())"
   ]
  },
  {
   "cell_type": "code",
   "execution_count": 6,
   "metadata": {},
   "outputs": [
    {
     "name": "stdout",
     "output_type": "stream",
     "text": [
      "hello() function has been exexcuted!\n",
      "I am going to return a function!\n"
     ]
    }
   ],
   "source": [
    "my_func_hello = hello('Mahesh')"
   ]
  },
  {
   "cell_type": "code",
   "execution_count": 7,
   "metadata": {},
   "outputs": [
    {
     "name": "stdout",
     "output_type": "stream",
     "text": [
      "\t this is the welcome func() inside hello() func\n"
     ]
    }
   ],
   "source": [
    "print(my_func_hello())"
   ]
  },
  {
   "cell_type": "code",
   "execution_count": 8,
   "metadata": {},
   "outputs": [],
   "source": [
    "def cool():\n",
    "    def super_cool():\n",
    "        return 'I am very cool'\n",
    "    return super_cool"
   ]
  },
  {
   "cell_type": "code",
   "execution_count": 9,
   "metadata": {},
   "outputs": [],
   "source": [
    "my_func = cool()"
   ]
  },
  {
   "cell_type": "code",
   "execution_count": 10,
   "metadata": {},
   "outputs": [
    {
     "name": "stdout",
     "output_type": "stream",
     "text": [
      "I am very cool\n"
     ]
    }
   ],
   "source": [
    "print(my_func())"
   ]
  },
  {
   "cell_type": "code",
   "execution_count": 11,
   "metadata": {},
   "outputs": [],
   "source": [
    "#function as argument or function assign function\n"
   ]
  },
  {
   "cell_type": "code",
   "execution_count": 12,
   "metadata": {},
   "outputs": [],
   "source": [
    "def hello():\n",
    "    return 'Hello Omkar'"
   ]
  },
  {
   "cell_type": "code",
   "execution_count": 13,
   "metadata": {},
   "outputs": [],
   "source": [
    "def other(some_other_func):\n",
    "    print('Other code run here')\n",
    "    print(some_other_func())"
   ]
  },
  {
   "cell_type": "code",
   "execution_count": 14,
   "metadata": {},
   "outputs": [
    {
     "name": "stdout",
     "output_type": "stream",
     "text": [
      "Other code run here\n",
      "Hello Omkar\n"
     ]
    }
   ],
   "source": [
    "other(hello)"
   ]
  },
  {
   "cell_type": "code",
   "execution_count": 15,
   "metadata": {},
   "outputs": [],
   "source": [
    "#decorator"
   ]
  },
  {
   "cell_type": "code",
   "execution_count": 16,
   "metadata": {},
   "outputs": [],
   "source": [
    "def new_decorator(original_func):\n",
    "    def wrap_func():\n",
    "        print(\"Some extra code, before original function\")\n",
    "        \n",
    "        original_func()\n",
    "        \n",
    "        print(\"Some extra code after original function\")\n",
    "        \n",
    "    return wrap_func"
   ]
  },
  {
   "cell_type": "code",
   "execution_count": 17,
   "metadata": {},
   "outputs": [],
   "source": [
    "def func_need_decorator():\n",
    "    print(\"I want to be decorated!\")"
   ]
  },
  {
   "cell_type": "code",
   "execution_count": 18,
   "metadata": {},
   "outputs": [],
   "source": [
    "decorated_func = new_decorator(func_need_decorator)"
   ]
  },
  {
   "cell_type": "code",
   "execution_count": 19,
   "metadata": {},
   "outputs": [
    {
     "name": "stdout",
     "output_type": "stream",
     "text": [
      "Some extra code, before original function\n",
      "I want to be decorated!\n",
      "Some extra code after original function\n"
     ]
    }
   ],
   "source": [
    "decorated_func()"
   ]
  },
  {
   "cell_type": "code",
   "execution_count": 20,
   "metadata": {},
   "outputs": [],
   "source": [
    "@new_decorator\n",
    "def func_need_decorator():\n",
    "    print(\"I want to be decorated!\")"
   ]
  },
  {
   "cell_type": "code",
   "execution_count": 21,
   "metadata": {},
   "outputs": [
    {
     "name": "stdout",
     "output_type": "stream",
     "text": [
      "Some extra code, before original function\n",
      "I want to be decorated!\n",
      "Some extra code after original function\n"
     ]
    }
   ],
   "source": [
    "func_need_decorator()"
   ]
  },
  {
   "cell_type": "code",
   "execution_count": null,
   "metadata": {},
   "outputs": [],
   "source": []
  }
 ],
 "metadata": {
  "kernelspec": {
   "display_name": "Python 3",
   "language": "python",
   "name": "python3"
  },
  "language_info": {
   "codemirror_mode": {
    "name": "ipython",
    "version": 3
   },
   "file_extension": ".py",
   "mimetype": "text/x-python",
   "name": "python",
   "nbconvert_exporter": "python",
   "pygments_lexer": "ipython3",
   "version": "3.7.6"
  }
 },
 "nbformat": 4,
 "nbformat_minor": 4
}
